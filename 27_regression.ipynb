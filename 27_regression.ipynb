{
 "cells": [
  {
   "cell_type": "markdown",
   "id": "360b8f21-b5e9-450c-8ea2-4cff341dad38",
   "metadata": {},
   "source": [
    "Q1. Explain the concept of R-squared in linear regression models. How is it calculated, and what does it represent?\n"
   ]
  },
  {
   "cell_type": "markdown",
   "id": "ae27c735-3631-4b80-a064-f4a65ea0d52b",
   "metadata": {},
   "source": [
    "It is help to show the performance of the data in linear regression,it is define as:-\n",
    "=(1-SSRes/SSTotal)\n",
    "\n",
    "SSRes:- sum of squared resudul\n",
    "SSTotal:-sum of squared total"
   ]
  },
  {
   "cell_type": "markdown",
   "id": "9cf30cb0-476e-4b54-ab81-c4dc3c1fae7e",
   "metadata": {},
   "source": [
    "2.Define adjusted R-squared and explain how it differs from the regular R-squared. "
   ]
  },
  {
   "cell_type": "markdown",
   "id": "86af2900-c2d6-4e5e-b86c-06002a722cd6",
   "metadata": {},
   "source": [
    "It the method of check the performance of the reression (linear and multiple/polonomials), it is always higher from adjusted R squared, maeans R square > Adjusted R squared"
   ]
  },
  {
   "cell_type": "markdown",
   "id": "4ea37881-c300-400c-98d8-6d65532f4456",
   "metadata": {},
   "source": [
    "3.When is it more appropriate to use adjusted R-squared?\n"
   ]
  },
  {
   "cell_type": "markdown",
   "id": "a4bbafcd-b7ca-4a40-afc3-873c67e8bb1e",
   "metadata": {},
   "source": [
    "It gives the better unit point of the accuracy of the data."
   ]
  },
  {
   "cell_type": "markdown",
   "id": "4597a612-cdb4-420a-b706-2920937aa1ac",
   "metadata": {},
   "source": [
    "Q4. What are RMSE, MSE, and MAE in the context of regression analysis? How are these metrics calculated, and what do they represent?\n"
   ]
  },
  {
   "cell_type": "markdown",
   "id": "28c7b5cc-da75-447c-b63b-24b4d61ff970",
   "metadata": {},
   "source": [
    "It is the cost function which is use to find the error of the function and find their best fit line form the cost funtion,\n",
    "MSE:- mean squared error\n",
    "RMSE:-root mean squred error\n",
    "MAE:-mean absolute error"
   ]
  },
  {
   "cell_type": "markdown",
   "id": "bf1d907f-a991-419e-96f5-99825adf9890",
   "metadata": {},
   "source": [
    "Q5.Discuss the advantages and disadvantages of using RMSE, MSE, and MAE as evaluation metrics in regression analysis."
   ]
  },
  {
   "cell_type": "markdown",
   "id": "f4ad6bda-90ad-45c0-ba27-17e766da5d37",
   "metadata": {},
   "source": [
    "Advantage of the RMSE,MSE and MAE of the following:-\n",
    "MSE.\n",
    "It is differentialble\n",
    "it has one local and one minimal point.\n",
    "MAE.\n",
    "it is robust to outlier\n",
    "it has same units\n",
    "RMSE.\n",
    "It is differentiable.\n",
    "it is same units\n",
    "\n",
    "Disadvantage of the RMSE,MSE and MAE of the following:-\n",
    "MSE.\n",
    "Not robust to outliers\n",
    "it is not in the same units\n",
    "MAE.\n",
    "conversion generally taken tune\n",
    "optimize is complex\n",
    "time consuming\n"
   ]
  },
  {
   "cell_type": "markdown",
   "id": "ec4f7d46-e098-4c69-8f8d-1977e40d271c",
   "metadata": {},
   "source": [
    "Q6. Explain the concept of Lasso regularization. How does it differ from Ridge regularization, and when is it more appropriate to use?\n"
   ]
  },
  {
   "cell_type": "markdown",
   "id": "0343cd6b-1383-489c-98c3-c637a95d50ec",
   "metadata": {},
   "source": [
    "Losso regularization:-LASSO(least absolute shrinkage and selection operation) is a regression analysis method that performs both variable selection and regularization in order to enhance the prediction accuracy and interpretability of the resulting statistical model.\n",
    "Ridge regression shrinks the coefficients towards zero, while Lasso regression encourages some of them to be exactly zero.\n",
    "Lasso tends to do well if there are a small number of significant parameters and the others are close to zero.\n",
    " Ridge works well if there are many large parameters of about the same value."
   ]
  },
  {
   "cell_type": "markdown",
   "id": "14f56f73-9d3c-4bfd-b99e-cbdf2049c011",
   "metadata": {},
   "source": [
    "Q7. How do regularized linear models help to prevent overfitting in machine learning? Provide an example to illustrate."
   ]
  },
  {
   "cell_type": "markdown",
   "id": "83e26620-14e9-4f37-9c49-30a495acd3eb",
   "metadata": {},
   "source": [
    "Linear model their have only one dependent and  one independent variable are present their for we have to not more overfiting area of the data set."
   ]
  },
  {
   "cell_type": "code",
   "execution_count": 3,
   "id": "d5217b64-d11c-40dc-96d1-d7f34646efe7",
   "metadata": {},
   "outputs": [],
   "source": [
    "import pandas as pd\n",
    "import numpy as np\n",
    "import matplotlib.pyplot as plt\n",
    "%matplotlib inline"
   ]
  },
  {
   "cell_type": "code",
   "execution_count": 8,
   "id": "13fdd343-fab6-42da-b7fb-444d40be4cdc",
   "metadata": {},
   "outputs": [
    {
     "data": {
      "text/plain": [
       "Text(0, 0.5, 'dependent')"
      ]
     },
     "execution_count": 8,
     "metadata": {},
     "output_type": "execute_result"
    },
    {
     "data": {
      "image/png": "[encoded data removed]",
      "text/plain": [
       "<Figure size 640x480 with 1 Axes>"
      ]
     },
     "metadata": {},
     "output_type": "display_data"
    }
   ],
   "source": [
    "#examples\n",
    "a=1,2,3,4,5 #independent\n",
    "b=10,20,30,40,50 #dependent\n",
    "\n",
    "plt.scatter(a,b)\n",
    "plt.xlabel(\"independent\")\n",
    "plt.ylabel(\"dependent\")"
   ]
  },
  {
   "cell_type": "code",
   "execution_count": null,
   "id": "cdc9fe23-de20-448e-9dc6-50a08574ea6a",
   "metadata": {},
   "outputs": [],
   "source": [
    "now we can absorve that in the figure we have to seen the best fit line with zero error."
   ]
  },
  {
   "cell_type": "markdown",
   "id": "26f9179e-f469-40f1-b8d2-f529a2fa24c8",
   "metadata": {},
   "source": [
    "Q8. Discuss the limitations of regularized linear models and explain why they may not always be the best choice for regression analysis."
   ]
  },
  {
   "cell_type": "code",
   "execution_count": null,
   "id": "72cb95ae-f91c-4924-8779-15937b746ef5",
   "metadata": {},
   "outputs": [],
   "source": [
    "Limitation of regularized linear models.\n",
    "1.it is perform only their have  linear data we have.\n",
    "2.it has only perform for only one dependent and one independent dataset.\n",
    "3.in this data set error are minimum."
   ]
  },
  {
   "cell_type": "markdown",
   "id": "4927c6e3-12fe-4ad1-ae33-cbe0850e41f8",
   "metadata": {},
   "source": [
    "Q9. You are comparing the performance of two regression models using different evaluation metrics. Model A has an RMSE of 10, while Model B has an MAE of 8. Which model would you choose as the better performer, and why? Are there any limitations to your choice of metric?\n"
   ]
  },
  {
   "cell_type": "markdown",
   "id": "ba67ac75-dd5f-44bf-980f-fa250dce6ea5",
   "metadata": {},
   "source": [
    "limitation of the both error are following.\n",
    "RMSE:-It diffrentiated function, it is same units\n",
    "MAE:-it is robust to outlier,it has same units\n",
    "\n",
    "Now according to model we have to to quanty achieve of both, according to cost function the MAE have better chose and it has best outfit line achive and minmul point."
   ]
  },
  {
   "cell_type": "markdown",
   "id": "0927c315-b221-4b5c-9942-495302665573",
   "metadata": {},
   "source": [
    "10.You are comparing the performance of two regularized linear models using different types of regularization. Model A uses Ridge regularization with a regularization parameter of 0.1, while Model B uses Lasso regularization with a regularization parameter of 0.5. Which model would you choose as the better performer, and why? Are there any trade-offs or limitations to your choice of regularization method?"
   ]
  },
  {
   "cell_type": "markdown",
   "id": "000e5ced-b2f6-4880-bbc8-6a24a440382c",
   "metadata": {},
   "source": [
    "As we disscouse before, both have differnt cateria for choosen but here we have coefficient present so,now we have go with ridge regularization because we have get better outfit line and minimul point,\n",
    "because we know the minimum data point then go with ridge regularization,and high data points then go with LASSO(least absolute shrinkage and selection operation) regression."
   ]
  }
 ],
 "metadata": {
  "kernelspec": {
   "display_name": "Python 3 (ipykernel)",
   "language": "python",
   "name": "python3"
  },
  "language_info": {
   "codemirror_mode": {
    "name": "ipython",
    "version": 3
   },
   "file_extension": ".py",
   "mimetype": "text/x-python",
   "name": "python",
   "nbconvert_exporter": "python",
   "pygments_lexer": "ipython3",
   "version": "3.10.8"
  }
 },
 "nbformat": 4,
 "nbformat_minor": 5
}
